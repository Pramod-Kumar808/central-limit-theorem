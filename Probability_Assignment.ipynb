{
 "cells": [
  {
   "cell_type": "markdown",
   "metadata": {},
   "source": [
    "## Print the head=1 and tails=0 in a list "
   ]
  },
  {
   "cell_type": "code",
   "execution_count": 39,
   "metadata": {},
   "outputs": [
    {
     "name": "stdout",
     "output_type": "stream",
     "text": [
      "Enter the value: 30\n",
      "HEADS = 1, TAILS = 0 :\n",
      "[1 0 0 0 0 0 0 1 0 0 0 0 1 0 0 0 1 1 1 0 0 0 0 0 1 0 1 0 0 0]\n",
      "\n",
      "\n",
      "Heads counts:  8\n",
      "Tails counts:  22\n"
     ]
    }
   ],
   "source": [
    "import numpy as np\n",
    "\n",
    "def toss(N):\n",
    "    #This perform binomial distribution\n",
    "    value = np.random.binomial(1,N)\n",
    "    #This returns the value 0 or 1\n",
    "    return value\n",
    "\n",
    "n = int(input(\"Enter the value: \"))    #Number of flips\n",
    "List1 = np.arange(n)   #This initiate array\n",
    "p=0.5\n",
    "\n",
    "for i in range(0,n):\n",
    "    #This help the values put into list and print the probability\n",
    "    List1[i] = toss(p)\n",
    "    i = i+1\n",
    "\n",
    "print(\"HEADS = 1, TAILS = 0 :\")\n",
    "print(List1)\n",
    "print(\"\\n\")\n",
    "print(\"Heads counts: \", np.count_nonzero(List1==1))\n",
    "print(\"Tails counts: \", np.count_nonzero(List1==0))"
   ]
  },
  {
   "cell_type": "markdown",
   "metadata": {},
   "source": [
    "## Central limit theorem graph "
   ]
  },
  {
   "cell_type": "code",
   "execution_count": 51,
   "metadata": {},
   "outputs": [
    {
     "name": "stdout",
     "output_type": "stream",
     "text": [
      "Size of sample: 20\n",
      "Number of samples: 2000\n",
      "Number of tossing (N): 20000\n"
     ]
    },
    {
     "data": {
      "text/plain": [
       "<AxesSubplot:ylabel='Count'>"
      ]
     },
     "execution_count": 51,
     "metadata": {},
     "output_type": "execute_result"
    },
    {
     "data": {
      "image/png": "[encoded data removed]",
      "text/plain": [
       "<Figure size 432x288 with 1 Axes>"
      ]
     },
     "metadata": {
      "needs_background": "light"
     },
     "output_type": "display_data"
    }
   ],
   "source": [
    "import seaborn as sns\n",
    "#Inputs\n",
    "Samp = int(input(\"Size of sample: \"))\n",
    "Nb_Samp = int(input(\"Number of samples: \"))\n",
    "Toss = int(input(\"Number of tossing (N): \"))\n",
    "\n",
    "L1 = np.random.binomial(Samp, 0.5, Toss)    #performing binomial distrubution\n",
    "L2 = []                                     \n",
    "for i in range(Nb_Samp):                    \n",
    "    result = np.random.choice(L1, Samp, replace=False)\n",
    "    result_mean = np.mean(result)            #In number of samples selecting random number of outputs\n",
    "    L2.append(result_mean)                                #from binomial distrubution and calculating mean value\n",
    "\n",
    "sns.histplot(L2, kde= True, color=\"red\")      #graph"
   ]
  },
  {
   "cell_type": "code",
   "execution_count": 41,
   "metadata": {},
   "outputs": [],
   "source": [
    "# for i in L1:\n",
    "#     if i%2 == 0:\n",
    "#         print(\"1\")\n",
    "#     else:\n",
    "#         print(\"0\")"
   ]
  },
  {
   "cell_type": "code",
   "execution_count": null,
   "metadata": {},
   "outputs": [],
   "source": []
  }
 ],
 "metadata": {
  "kernelspec": {
   "display_name": "Python 3",
   "language": "python",
   "name": "python3"
  },
  "language_info": {
   "codemirror_mode": {
    "name": "ipython",
    "version": 3
   },
   "file_extension": ".py",
   "mimetype": "text/x-python",
   "name": "python",
   "nbconvert_exporter": "python",
   "pygments_lexer": "ipython3",
   "version": "3.6.10"
  }
 },
 "nbformat": 4,
 "nbformat_minor": 4
}
